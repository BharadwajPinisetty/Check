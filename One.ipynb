# This program prints Hello, world!

print('Hello, world!')
print('Hello, world1!')
print('Hello, world12!')
